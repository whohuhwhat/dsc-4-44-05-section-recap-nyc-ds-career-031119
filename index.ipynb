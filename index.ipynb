{
 "cells": [
  {
   "cell_type": "markdown",
   "metadata": {},
   "source": [
    "# Section Recap"
   ]
  },
  {
   "cell_type": "markdown",
   "metadata": {},
   "source": [
    "## Introduction\n",
    "\n",
    "This short lesson summarizes key takeaways from section 44."
   ]
  },
  {
   "cell_type": "markdown",
   "metadata": {},
   "source": [
    "## Objectives\n",
    "You will be able to:\n",
    "* Understand and explain what was covered in this section\n",
    "* Understand and explain why this section will help you become a data scientist"
   ]
  },
  {
   "cell_type": "markdown",
   "metadata": {},
   "source": [
    "## Key Takeaways\n",
    "\n",
    "The key takeaways from this section include:\n",
    "\n",
    "* Convolutional bases or pretrained networks are particularly useful when your data at hand is limited\n",
    "* In general, the first few layers of convolutional bases detect very general features such as edges, therefore, pretrained networks can be used on completely different classes of images they were originally trained on\n",
    "* Two ways of using convolutional bases include: feature extraction and fine-tuning\n",
    "* Feature extraction involves using a pretrained network, running new data through it, and training a _new_ classifier on top of that\n",
    "* fine-tuning involves \"unfreezing\" a few top layers from the model and training them again together with the densely connected classifier\n",
    "* Several convolutional bases are available in Keras, and you learned how to perform both feature extraction and fine-tuning"
   ]
  }
 ],
 "metadata": {
  "kernelspec": {
   "display_name": "Python 3",
   "language": "python",
   "name": "python3"
  },
  "language_info": {
   "codemirror_mode": {
    "name": "ipython",
    "version": 3
   },
   "file_extension": ".py",
   "mimetype": "text/x-python",
   "name": "python",
   "nbconvert_exporter": "python",
   "pygments_lexer": "ipython3",
   "version": "3.6.6"
  }
 },
 "nbformat": 4,
 "nbformat_minor": 2
}
